{
 "cells": [
  {
   "cell_type": "markdown",
   "metadata": {},
   "source": [
    "# Huggingface Sagemaker-sdk - Getting Started Demo\n",
    "### Binary Classification with `Trainer` and `imdb` dataset"
   ]
  },
  {
   "cell_type": "markdown",
   "metadata": {},
   "source": [
    "1. [Introduction](#Introduction)  \n",
    "2. [Development Environment and Permissions](#Development-Environment-and-Permissions)\n",
    "    1. [Installation](#Installation)  \n",
    "    2. [Development environment](#Development-environment)  \n",
    "    3. [Permissions](#Permissions)\n",
    "3. [Processing](#Preprocessing)   \n",
    "    1. [Tokenization](#Tokenization)  \n",
    "    2. [Uploading data to sagemaker_session_bucket](#Uploading-data-to-sagemaker_session_bucket)  \n",
    "4. [Fine-tuning & starting Sagemaker Training Job](#Fine-tuning-\\&-starting-Sagemaker-Training-Job)  \n",
    "    1. [Creating an Estimator and start a training job](#Creating-an-Estimator-and-start-a-training-job)  \n",
    "    2. [Estimator Parameters](#Estimator-Parameters)   \n",
    "    3. [Download fine-tuned model from s3](#Download-fine-tuned-model-from-s3)\n",
    "    3. [Attach to old training job to an estimator ](#Attach-to-old-training-job-to-an-estimator)  \n",
    "5. [_Coming soon_:Push model to the Hugging Face hub](#Push-model-to-the-Hugging-Face-hub)"
   ]
  },
  {
   "cell_type": "markdown",
   "metadata": {},
   "source": [
    "# Introduction\n",
    "\n",
    "Welcome to our end-to-end binary Text-Classification example. In this demo, we will use the Hugging Faces `transformers` and `datasets` library together with a custom Amazon sagemaker-sdk extension to fine-tune a pre-trained transformer on binary text classification. In particular, the pre-trained model will be fine-tuned using the `imdb` dataset. To get started, we need to set up the environment with a few prerequisite steps, for permissions, configurations, and so on. \n",
    "\n",
    "_**NOTE: You can run this demo in Sagemaker Studio, your local machine or Sagemaker Notebook Instances**_"
   ]
  },
  {
   "cell_type": "markdown",
   "metadata": {},
   "source": [
    "# Development Environment and Permissions "
   ]
  },
  {
   "cell_type": "code",
   "execution_count": 2,
   "metadata": {
    "tags": []
   },
   "outputs": [
    {
     "name": "stdout",
     "output_type": "stream",
     "text": [
      "sagemaker role arn: arn:aws:iam::394934205700:role/service-role/AmazonSageMaker-ExecutionRole-20220201T182213\n",
      "sagemaker bucket: sagemaker-us-east-1-394934205700\n",
      "sagemaker session region: us-east-1\n"
     ]
    }
   ],
   "source": [
    "import sagemaker\n",
    "import boto3\n",
    "sess = sagemaker.Session()\n",
    "# sagemaker session bucket -> used for uploading data, models and logs\n",
    "# sagemaker will automatically create this bucket if it not exists\n",
    "sagemaker_session_bucket=None\n",
    "if sagemaker_session_bucket is None and sess is not None:\n",
    "    # set to default bucket if a bucket name is not given\n",
    "    sagemaker_session_bucket = sess.default_bucket()\n",
    "\n",
    "try:\n",
    "    role = sagemaker.get_execution_role()\n",
    "except ValueError:\n",
    "    iam = boto3.client('iam')\n",
    "    role = iam.get_role(RoleName='sagemaker_execution_role')['Role']['Arn']\n",
    "\n",
    "sess = sagemaker.Session(default_bucket=sagemaker_session_bucket)\n",
    "\n",
    "print(f\"sagemaker role arn: {role}\")\n",
    "print(f\"sagemaker bucket: {sess.default_bucket()}\")\n",
    "print(f\"sagemaker session region: {sess.boto_region_name}\")"
   ]
  },
  {
   "cell_type": "markdown",
   "metadata": {},
   "source": [
    "# Preprocessing\n",
    "\n",
    "We are using the `datasets` library to download and preprocess the `imdb` dataset. After preprocessing, the dataset will be uploaded to our `sagemaker_session_bucket` to be used within our training job. The [imdb](http://ai.stanford.edu/~amaas/data/sentiment/) dataset consists of 25000 training and 25000 testing highly polar movie reviews."
   ]
  },
  {
   "cell_type": "markdown",
   "metadata": {},
   "source": [
    "## Tokenization "
   ]
  },
  {
   "cell_type": "code",
   "execution_count": 3,
   "metadata": {
    "tags": []
   },
   "outputs": [],
   "source": [
    "from sagemaker import get_execution_role\n",
    "from sagemaker.pytorch.processing import PyTorchProcessor\n",
    "\n",
    "pytorch_processor = PyTorchProcessor(role=role,\n",
    "                                     instance_type='ml.m5.xlarge',\n",
    "                                     instance_count=1,\n",
    "                                     framework_version='1.13',\n",
    "                                     py_version='py39')"
   ]
  },
  {
   "cell_type": "code",
   "execution_count": 4,
   "metadata": {
    "tags": []
   },
   "outputs": [
    {
     "name": "stderr",
     "output_type": "stream",
     "text": [
      "INFO:sagemaker:Creating processing-job with name tlv-summit-demo-21-12-55-14\n"
     ]
    },
    {
     "name": "stdout",
     "output_type": "stream",
     "text": [
      "Using provided s3_resource\n",
      "...........................\u001b[34mCollecting transformers==4.26\n",
      "  Downloading transformers-4.26.0-py3-none-any.whl (6.3 MB)\n",
      "     ━━━━━━━━━━━━━━━━━━━━━━━━━━━━━━━━━━━━━━━━ 6.3/6.3 MB 84.7 MB/s eta 0:00:00\u001b[0m\n",
      "\u001b[34mCollecting filelock\n",
      "  Downloading filelock-3.12.0-py3-none-any.whl (10 kB)\u001b[0m\n",
      "\u001b[34mCollecting huggingface-hub<1.0,>=0.11.0\n",
      "  Downloading huggingface_hub-0.13.4-py3-none-any.whl (200 kB)\n",
      "     ━━━━━━━━━━━━━━━━━━━━━━━━━━━━━━━━━━━━━━ 200.1/200.1 kB 39.3 MB/s eta 0:00:00\u001b[0m\n",
      "\u001b[34mRequirement already satisfied: numpy>=1.17 in /opt/conda/lib/python3.9/site-packages (from transformers==4.26) (1.23.5)\u001b[0m\n",
      "\u001b[34mRequirement already satisfied: packaging>=20.0 in /opt/conda/lib/python3.9/site-packages (from transformers==4.26) (23.0)\u001b[0m\n",
      "\u001b[34mRequirement already satisfied: tqdm>=4.27 in /opt/conda/lib/python3.9/site-packages (from transformers==4.26) (4.64.1)\u001b[0m\n",
      "\u001b[34mCollecting tokenizers!=0.11.3,<0.14,>=0.11.1\n",
      "  Downloading tokenizers-0.13.3-cp39-cp39-manylinux_2_17_x86_64.manylinux2014_x86_64.whl (7.8 MB)\n",
      "     ━━━━━━━━━━━━━━━━━━━━━━━━━━━━━━━━━━━━━━━━ 7.8/7.8 MB 92.0 MB/s eta 0:00:00\u001b[0m\n",
      "\u001b[34mCollecting regex!=2019.12.17\n",
      "  Downloading regex-2023.3.23-cp39-cp39-manylinux_2_17_x86_64.manylinux2014_x86_64.whl (768 kB)\n",
      "     ━━━━━━━━━━━━━━━━━━━━━━━━━━━━━━━━━━━━━━ 769.0/769.0 kB 72.0 MB/s eta 0:00:00\u001b[0m\n",
      "\u001b[34mRequirement already satisfied: requests in /opt/conda/lib/python3.9/site-packages (from transformers==4.26) (2.28.2)\u001b[0m\n",
      "\u001b[34mRequirement already satisfied: pyyaml>=5.1 in /opt/conda/lib/python3.9/site-packages (from transformers==4.26) (5.4.1)\u001b[0m\n",
      "\u001b[34mRequirement already satisfied: typing-extensions>=3.7.4.3 in /opt/conda/lib/python3.9/site-packages (from huggingface-hub<1.0,>=0.11.0->transformers==4.26) (4.4.0)\u001b[0m\n",
      "\u001b[34mRequirement already satisfied: idna<4,>=2.5 in /opt/conda/lib/python3.9/site-packages (from requests->transformers==4.26) (3.4)\u001b[0m\n",
      "\u001b[34mRequirement already satisfied: certifi>=2017.4.17 in /opt/conda/lib/python3.9/site-packages (from requests->transformers==4.26) (2022.12.7)\u001b[0m\n",
      "\u001b[34mRequirement already satisfied: urllib3<1.27,>=1.21.1 in /opt/conda/lib/python3.9/site-packages (from requests->transformers==4.26) (1.26.14)\u001b[0m\n",
      "\u001b[34mRequirement already satisfied: charset-normalizer<4,>=2 in /opt/conda/lib/python3.9/site-packages (from requests->transformers==4.26) (2.1.1)\u001b[0m\n",
      "\u001b[34mInstalling collected packages: tokenizers, regex, filelock, huggingface-hub, transformers\u001b[0m\n",
      "\u001b[34mSuccessfully installed filelock-3.12.0 huggingface-hub-0.13.4 regex-2023.3.23 tokenizers-0.13.3 transformers-4.26.0\u001b[0m\n",
      "\u001b[34mWARNING: Running pip as the 'root' user can result in broken permissions and conflicting behaviour with the system package manager. It is recommended to use a virtual environment instead: https://pip.pypa.io/warnings/venv\u001b[0m\n",
      "\u001b[34m[notice] A new release of pip is available: 23.0 -> 23.1\u001b[0m\n",
      "\u001b[34m[notice] To update, run: pip install --upgrade pip\u001b[0m\n",
      "\u001b[34mCollecting datasets==2.10.1\n",
      "  Downloading datasets-2.10.1-py3-none-any.whl (469 kB)\n",
      "     ━━━━━━━━━━━━━━━━━━━━━━━━━━━━━━━━━━━━━━ 469.0/469.0 kB 22.1 MB/s eta 0:00:00\u001b[0m\n",
      "\u001b[34mRequirement already satisfied: requests>=2.19.0 in /opt/conda/lib/python3.9/site-packages (from datasets==2.10.1) (2.28.2)\u001b[0m\n",
      "\u001b[34mRequirement already satisfied: dill<0.3.7,>=0.3.0 in /opt/conda/lib/python3.9/site-packages (from datasets==2.10.1) (0.3.6)\u001b[0m\n",
      "\u001b[34mRequirement already satisfied: pyarrow>=6.0.0 in /opt/conda/lib/python3.9/site-packages (from datasets==2.10.1) (11.0.0)\u001b[0m\n",
      "\u001b[34mRequirement already satisfied: pandas in /opt/conda/lib/python3.9/site-packages (from datasets==2.10.1) (1.5.3)\u001b[0m\n",
      "\u001b[34mRequirement already satisfied: multiprocess in /opt/conda/lib/python3.9/site-packages (from datasets==2.10.1) (0.70.14)\u001b[0m\n",
      "\u001b[34mRequirement already satisfied: tqdm>=4.62.1 in /opt/conda/lib/python3.9/site-packages (from datasets==2.10.1) (4.64.1)\u001b[0m\n",
      "\u001b[34mCollecting responses<0.19\n",
      "  Downloading responses-0.18.0-py3-none-any.whl (38 kB)\u001b[0m\n",
      "\u001b[34mRequirement already satisfied: fsspec[http]>=2021.11.1 in /opt/conda/lib/python3.9/site-packages (from datasets==2.10.1) (2023.1.0)\u001b[0m\n",
      "\u001b[34mRequirement already satisfied: pyyaml>=5.1 in /opt/conda/lib/python3.9/site-packages (from datasets==2.10.1) (5.4.1)\u001b[0m\n",
      "\u001b[34mCollecting xxhash\n",
      "  Downloading xxhash-3.2.0-cp39-cp39-manylinux_2_17_x86_64.manylinux2014_x86_64.whl (212 kB)\n",
      "     ━━━━━━━━━━━━━━━━━━━━━━━━━━━━━━━━━━━━━━ 212.2/212.2 kB 38.1 MB/s eta 0:00:00\u001b[0m\n",
      "\u001b[34mRequirement already satisfied: huggingface-hub<1.0.0,>=0.2.0 in /opt/conda/lib/python3.9/site-packages (from datasets==2.10.1) (0.13.4)\u001b[0m\n",
      "\u001b[34mRequirement already satisfied: numpy>=1.17 in /opt/conda/lib/python3.9/site-packages (from datasets==2.10.1) (1.23.5)\u001b[0m\n",
      "\u001b[34mCollecting aiohttp\n",
      "  Downloading aiohttp-3.8.4-cp39-cp39-manylinux_2_17_x86_64.manylinux2014_x86_64.whl (1.0 MB)\n",
      "     ━━━━━━━━━━━━━━━━━━━━━━━━━━━━━━━━━━━━━━━━ 1.0/1.0 MB 66.1 MB/s eta 0:00:00\u001b[0m\n",
      "\u001b[34mRequirement already satisfied: packaging in /opt/conda/lib/python3.9/site-packages (from datasets==2.10.1) (23.0)\u001b[0m\n",
      "\u001b[34mRequirement already satisfied: attrs>=17.3.0 in /opt/conda/lib/python3.9/site-packages (from aiohttp->datasets==2.10.1) (22.2.0)\u001b[0m\n",
      "\u001b[34mCollecting yarl<2.0,>=1.0\n",
      "  Downloading yarl-1.8.2-cp39-cp39-manylinux_2_17_x86_64.manylinux2014_x86_64.whl (264 kB)\n",
      "     ━━━━━━━━━━━━━━━━━━━━━━━━━━━━━━━━━━━━━━ 264.6/264.6 kB 43.4 MB/s eta 0:00:00\u001b[0m\n",
      "\u001b[34mRequirement already satisfied: charset-normalizer<4.0,>=2.0 in /opt/conda/lib/python3.9/site-packages (from aiohttp->datasets==2.10.1) (2.1.1)\u001b[0m\n",
      "\u001b[34mCollecting multidict<7.0,>=4.5\n",
      "  Downloading multidict-6.0.4-cp39-cp39-manylinux_2_17_x86_64.manylinux2014_x86_64.whl (114 kB)\n",
      "     ━━━━━━━━━━━━━━━━━━━━━━━━━━━━━━━━━━━━━━ 114.2/114.2 kB 26.2 MB/s eta 0:00:00\u001b[0m\n",
      "\u001b[34mCollecting aiosignal>=1.1.2\n",
      "  Downloading aiosignal-1.3.1-py3-none-any.whl (7.6 kB)\u001b[0m\n",
      "\u001b[34mCollecting frozenlist>=1.1.1\u001b[0m\n",
      "\u001b[34m  Downloading frozenlist-1.3.3-cp39-cp39-manylinux_2_5_x86_64.manylinux1_x86_64.manylinux_2_17_x86_64.manylinux2014_x86_64.whl (158 kB)\n",
      "     ━━━━━━━━━━━━━━━━━━━━━━━━━━━━━━━━━━━━━━ 158.8/158.8 kB 28.8 MB/s eta 0:00:00\u001b[0m\n",
      "\u001b[34mCollecting async-timeout<5.0,>=4.0.0a3\n",
      "  Downloading async_timeout-4.0.2-py3-none-any.whl (5.8 kB)\u001b[0m\n",
      "\u001b[34mRequirement already satisfied: filelock in /opt/conda/lib/python3.9/site-packages (from huggingface-hub<1.0.0,>=0.2.0->datasets==2.10.1) (3.12.0)\u001b[0m\n",
      "\u001b[34mRequirement already satisfied: typing-extensions>=3.7.4.3 in /opt/conda/lib/python3.9/site-packages (from huggingface-hub<1.0.0,>=0.2.0->datasets==2.10.1) (4.4.0)\u001b[0m\n",
      "\u001b[34mRequirement already satisfied: idna<4,>=2.5 in /opt/conda/lib/python3.9/site-packages (from requests>=2.19.0->datasets==2.10.1) (3.4)\u001b[0m\n",
      "\u001b[34mRequirement already satisfied: urllib3<1.27,>=1.21.1 in /opt/conda/lib/python3.9/site-packages (from requests>=2.19.0->datasets==2.10.1) (1.26.14)\u001b[0m\n",
      "\u001b[34mRequirement already satisfied: certifi>=2017.4.17 in /opt/conda/lib/python3.9/site-packages (from requests>=2.19.0->datasets==2.10.1) (2022.12.7)\u001b[0m\n",
      "\u001b[34mRequirement already satisfied: python-dateutil>=2.8.1 in /opt/conda/lib/python3.9/site-packages (from pandas->datasets==2.10.1) (2.8.2)\u001b[0m\n",
      "\u001b[34mRequirement already satisfied: pytz>=2020.1 in /opt/conda/lib/python3.9/site-packages (from pandas->datasets==2.10.1) (2022.7.1)\u001b[0m\n",
      "\u001b[34mRequirement already satisfied: six>=1.5 in /opt/conda/lib/python3.9/site-packages (from python-dateutil>=2.8.1->pandas->datasets==2.10.1) (1.16.0)\u001b[0m\n",
      "\u001b[34mInstalling collected packages: xxhash, multidict, frozenlist, async-timeout, yarl, responses, aiosignal, aiohttp, datasets\u001b[0m\n",
      "\u001b[34mSuccessfully installed aiohttp-3.8.4 aiosignal-1.3.1 async-timeout-4.0.2 datasets-2.10.1 frozenlist-1.3.3 multidict-6.0.4 responses-0.18.0 xxhash-3.2.0 yarl-1.8.2\u001b[0m\n",
      "\u001b[34mWARNING: Running pip as the 'root' user can result in broken permissions and conflicting behaviour with the system package manager. It is recommended to use a virtual environment instead: https://pip.pypa.io/warnings/venv\u001b[0m\n",
      "\u001b[34m[notice] A new release of pip is available: 23.0 -> 23.1\u001b[0m\n",
      "\u001b[34m[notice] To update, run: pip install --upgrade pip\u001b[0m\n",
      "\u001b[34m#015Downloading builder script:   0%|          | 0.00/4.31k [00:00<?, ?B/s]#015Downloading builder script: 100%|██████████| 4.31k/4.31k [00:00<00:00, 4.34MB/s]\u001b[0m\n",
      "\u001b[34m#015Downloading metadata:   0%|          | 0.00/2.17k [00:00<?, ?B/s]#015Downloading metadata: 100%|██████████| 2.17k/2.17k [00:00<00:00, 2.31MB/s]\u001b[0m\n",
      "\u001b[34m#015Downloading readme:   0%|          | 0.00/7.59k [00:00<?, ?B/s]#015Downloading readme: 100%|██████████| 7.59k/7.59k [00:00<00:00, 7.55MB/s]\u001b[0m\n",
      "\u001b[34mDownloading and preparing dataset imdb/plain_text to /root/.cache/huggingface/datasets/imdb/plain_text/1.0.0/d613c88cf8fa3bab83b4ded3713f1f74830d1100e171db75bbddb80b3345c9c0...\u001b[0m\n",
      "\u001b[34m#015Downloading data:   0%|          | 0.00/84.1M [00:00<?, ?B/s]#015Downloading data:   0%|          | 17.4k/84.1M [00:00<11:11, 125kB/s]#015Downloading data:   0%|          | 66.6k/84.1M [00:00<05:24, 259kB/s]#015Downloading data:   0%|          | 148k/84.1M [00:00<03:26, 407kB/s] #015Downloading data:   0%|          | 280k/84.1M [00:00<02:06, 663kB/s]#015Downloading data:   1%|          | 509k/84.1M [00:00<01:20, 1.03MB/s]#015Downloading data:   1%|          | 817k/84.1M [00:00<00:51, 1.60MB/s]#015Downloading data:   1%|          | 1.03M/84.1M [00:00<00:48, 1.72MB/s]#015Downloading data:   2%|▏         | 1.46M/84.1M [00:00<00:33, 2.45MB/s]#015Downloading data:   2%|▏         | 1.93M/84.1M [00:01<00:27, 3.02MB/s]#015Downloading data:   3%|▎         | 2.64M/84.1M [00:01<00:19, 4.17MB/s]#015Downloading data:   4%|▍         | 3.41M/84.1M [00:01<00:15, 5.05MB/s]#015Downloading data:   5%|▌         | 4.34M/84.1M [00:01<00:12, 6.28MB/s]#015Downloading data:   7%|▋         | 5.62M/84.1M [00:01<00:09, 7.95MB/s]#015Downloading data:   8%|▊         | 6.88M/84.1M [00:01<00:08, 9.29MB/s]#015Downloading data:  10%|█         | 8.72M/84.1M [00:01<00:06, 11.6MB/s]#015Downloading data:  12%|█▏        | 10.5M/84.1M [00:01<00:05, 13.3MB/s]#015Downloading data:  15%|█▌        | 12.8M/84.1M [00:01<00:04, 15.8MB/s]#015Downloading data:  18%|█▊        | 14.9M/84.1M [00:02<00:03, 17.4MB/s]#015Downloading data:  22%|██▏       | 18.1M/84.1M [00:02<00:03, 21.0MB/s]#015Downloading data:  25%|██▍       | 20.9M/84.1M [00:02<00:02, 22.9MB/s]#015Downloading data:  30%|██▉       | 25.0M/84.1M [00:02<00:02, 27.5MB/s]#015Downloading data:  34%|███▍      | 28.7M/84.1M [00:02<00:01, 29.8MB/s]#015Downloading data:  40%|███▉      | 33.4M/84.1M [00:02<00:01, 34.2MB/s]#015Downloading data:  45%|████▍     | 37.7M/84.1M [00:02<00:01, 36.4MB/s]#015Downloading data:  50%|█████     | 42.5M/84.1M [00:02<00:01, 38.8MB/s]#015Downloading data:  55%|█████▌    | 46.6M/84.1M [00:02<00:00, 39.1MB/s]#015Downloading data:  61%|██████    | 51.3M/84.1M [00:02<00:00, 40.4MB/s]#015Downloading data:  66%|██████▋   | 55.9M/84.1M [00:03<00:00, 41.9MB/s]#015Downloading data:  72%|███████▏  | 60.6M/84.1M [00:03<00:00, 42.2MB/s]#015Downloading data:  77%|███████▋  | 65.1M/84.1M [00:03<00:00, 43.1MB/s]#015Downloading data:  83%|████████▎ | 69.5M/84.1M [00:03<00:00, 42.4MB/s]#015Downloading data:  88%|████████▊ | 74.0M/84.1M [00:03<00:00, 42.8MB/s]#015Downloading data:  93%|█████████▎| 78.4M/84.1M [00:03<00:00, 42.8MB/s]#015Downloading data:  99%|█████████▉| 83.1M/84.1M [00:03<00:00, 43.9MB/s]#015Downloading data: 100%|██████████| 84.1M/84.1M [00:03<00:00, 22.5MB/s]\u001b[0m\n",
      "\u001b[34mDataset imdb downloaded and prepared to /root/.cache/huggingface/datasets/imdb/plain_text/1.0.0/d613c88cf8fa3bab83b4ded3713f1f74830d1100e171db75bbddb80b3345c9c0. Subsequent calls will reuse this data.\u001b[0m\n",
      "\u001b[34m#015Generating train split:   0%|          | 0/25000 [00:00<?, ? examples/s]#015Generating train split:   0%|          | 1/25000 [00:01<12:05:45,  1.74s/ examples]#015Generating train split:   4%|▍         | 1035/25000 [00:01<00:30, 784.18 examples/s]#015Generating train split:   9%|▊         | 2134/25000 [00:01<00:12, 1780.99 examples/s]#015Generating train split:  13%|█▎        | 3231/25000 [00:02<00:07, 2905.78 examples/s]#015Generating train split:  17%|█▋        | 4326/25000 [00:02<00:05, 4103.07 examples/s]#015Generating train split:  22%|██▏       | 5410/25000 [00:02<00:03, 5280.41 examples/s]#015Generating train split:  26%|██▌       | 6505/25000 [00:02<00:02, 6414.41 examples/s]#015Generating train split:  30%|███       | 7608/25000 [00:02<00:02, 7436.32 examples/s]#015Generating train split:  37%|███▋      | 9173/25000 [00:02<00:01, 8398.55 examples/s]#015Generating train split:  41%|████      | 10276/25000 [00:02<00:01, 9014.73 examples/s]#015Generating train split:  45%|████▌     | 11371/25000 [00:02<00:01, 9497.89 examples/s]#015Generating train split:  50%|████▉     | 12476/25000 [00:02<00:01, 9905.96 examples/s]#015Generating train split:  54%|█████▍    | 13581/25000 [00:02<00:01, 10217.86 examples/s]#015Generating train split:  59%|█████▊    | 14680/25000 [00:03<00:00, 10431.79 examples/s]#015Generating train split:  65%|██████▌   | 16284/25000 [00:03<00:00, 10527.52 examples/s]#015Generating train split:  70%|██████▉   | 17385/25000 [00:03<00:00, 10652.35 examples/s]#015Generating train split:  74%|███████▍  | 18485/25000 [00:03<00:00, 10745.61 examples/s]#015Generating train split:  80%|████████  | 20079/25000 [00:03<00:00, 10698.33 examples/s]#015Generating train split:  85%|████████▍ | 21173/25000 [00:03<00:00, 10758.74 examples/s]#015Generating train split:  91%|█████████▏| 22827/25000 [00:03<00:00, 10851.58 examples/s]#015Generating train split:  98%|█████████▊| 24441/25000 [00:03<00:00, 10819.46 examples/s]#015                                                                                       #015#015Generating test split:   0%|          | 0/25000 [00:00<?, ? examples/s]#015Generating test split:   0%|          | 1/25000 [00:00<2:50:29,  2.44 examples/s]#015Generating test split:   4%|▍         | 1083/25000 [00:00<00:08, 2801.60 examples/s]#015Generating test split:   9%|▊         | 2177/25000 [00:00<00:04, 4995.02 examples/s]#015Generating test split:  13%|█▎        | 3280/25000 [00:00<00:03, 6672.96 examples/s]#015Generating test split:  17%|█▋        | 4353/25000 [00:00<00:02, 7822.21 examples/s]#015Generating test split:  22%|██▏       | 5422/25000 [00:00<00:02, 8648.12 examples/s]#015Generating test split:  26%|██▌       | 6500/25000 [00:01<00:01, 9266.49 examples/s]#015Generating test split:  30%|███       | 7602/25000 [00:01<00:01, 9781.48 examples/s]#015Generating test split:  35%|███▍      | 8694/25000 [00:01<00:01, 10116.24 examples/s]#015Generating test split:  39%|███▉      | 9785/25000 [00:01<00:01, 10348.57 examples/s]#015Generating test split:  46%|████▌     | 11384/25000 [00:01<00:01, 10465.40 examples/s]#015Generating test split:  50%|████▉     | 12486/25000 [00:01<00:01, 10614.65 examples/s]#015Generating test split:  54%|█████▍    | 13584/25000 [00:01<00:01, 10711.73 examples/s]#015Generating test split:  61%|██████    | 15179/25000 [00:01<00:00, 10679.97 examples/s]#015Generating test split:  65%|██████▌   | 16283/25000 [00:01<00:00, 10767.68 examples/s]#015Generating test split:  70%|██████▉   | 17379/25000 [00:02<00:00, 10813.19 examples/s]#015Generating test split:  74%|███████▍  | 18476/25000 [00:02<00:00, 10854.74 examples/s]#015Generating test split:  78%|███████▊  | 19574/25000 [00:02<00:00, 10883.00 examples/s]#015Generating test split:  83%|████████▎ | 20681/25000 [00:02<00:00, 10934.58 examples/s]#015Generating test split:  87%|████████▋ | 21782/25000 [00:02<00:00, 10952.88 examples/s]#015Generating test split:  92%|█████████▏| 22881/25000 [00:02<00:00, 10957.98 examples/s]#015Generating test split:  98%|█████████▊| 24488/25000 [00:02<00:00, 10861.26 examples/s]#015                                                                                      #015#015Generating unsupervised split:   0%|          | 0/50000 [00:00<?, ? examples/s]#015Generating unsupervised split:   0%|          | 1/50000 [00:03<43:44:04,  3.15s/ examples]#015Generating unsupervised split:   2%|▏         | 1076/50000 [00:03<01:44, 466.81 examples/s]#015Generating unsupervised split:   4%|▍         | 2169/50000 [00:03<00:44, 1077.54 examples/s]#015Generating unsupervised split:   7%|▋         | 3257/50000 [00:03<00:25, 1831.85 examples/s]#015Generating unsupervised split:   9%|▊         | 4349/50000 [00:03<00:16, 2731.95 examples/s]#015Generating unsupervised split:  11%|█         | 5453/50000 [00:03<00:11, 3761.42 examples/s]#015Generating unsupervised split:  13%|█▎        | 6568/50000 [00:03<00:08, 4860.92 examples/s]#015Generating unsupervised split:  15%|█▌        | 7672/50000 [00:03<00:07, 5949.26 examples/s]#015Generating unsupervised split:  18%|█▊        | 9079/50000 [00:04<00:05, 6884.09 examples/s]#015Generating unsupervised split:  20%|██        | 10135/50000 [00:04<00:05, 7643.73 examples/s]#015Generating unsupervised split:  22%|██▏       | 11227/50000 [00:04<00:04, 8391.25 examples/s]#015Generating unsupervised split:  25%|██▍       | 12317/50000 [00:04<00:04, 9001.70 examples/s]#015Generating unsupervised split:  27%|██▋       | 13420/50000 [00:04<00:03, 9517.20 examples/s]#015Generating unsupervised split:  30%|███       | 15022/50000 [00:04<00:03, 9930.99 examples/s]#015Generating unsupervised split:  32%|███▏      | 16115/50000 [00:04<00:03, 10180.16 examples/s]#015Generating unsupervised split:  34%|███▍      | 17218/50000 [00:04<00:03, 10403.19 examples/s]#015Generating unsupervised split:  37%|███▋      | 18306/50000 [00:04<00:03, 10533.51 examples/s]#015Generating unsupervised split:  39%|███▉      | 19392/50000 [00:04<00:02, 10622.07 examples/s]#015Generating unsupervised split:  42%|████▏     | 21000/50000 [00:05<00:02, 10597.68 examples/s]#015Generating unsupervised split:  44%|████▍     | 22093/50000 [00:05<00:02, 10684.50 examples/s]#015Generating unsupervised split:  46%|████▋     | 23193/50000 [00:05<00:02, 10767.58 examples/s]#015Generating unsupervised split:  49%|████▊     | 24291/50000 [00:05<00:02, 10826.03 examples/s]#015Generating unsupervised split:  51%|█████     | 25388/50000 [00:05<00:02, 10864.50 examples/s]#015Generating unsupervised split:  53%|█████▎    | 26485/50000 [00:05<00:02, 10890.98 examples/s]#015Generating unsupervised split:  55%|█████▌    | 27591/50000 [00:05<00:02, 10937.57 examples/s]#015Generating unsupervised split:  58%|█████▊    | 29183/50000 [00:05<00:01, 10809.43 examples/s]#015Generating unsupervised split:  61%|██████    | 30276/50000 [00:05<00:01, 10839.18 examples/s]#015Generating unsupervised split:  63%|██████▎   | 31370/50000 [00:06<00:01, 10866.22 examples/s]#015Generating unsupervised split:  66%|██████▌   | 33000/50000 [00:06<00:01, 10727.29 examples/s]#015Generating unsupervised split:  68%|██████▊   | 34086/50000 [00:06<00:01, 10761.32 examples/s]#015Generating unsupervised split:  70%|███████   | 35191/50000 [00:06<00:01, 10837.98 examples/s]#015Generating unsupervised split:  73%|███████▎  | 36284/50000 [00:06<00:01, 10862.71 examples/s]#015Generating unsupervised split:  75%|███████▍  | 37384/50000 [00:06<00:01, 10899.40 examples/s]#015Generating unsupervised split:  77%|███████▋  | 38487/50000 [00:06<00:01, 10935.99 examples/s]#015Generating unsupervised split:  80%|████████  | 40097/50000 [00:06<00:00, 10853.33 examples/s]#015Generating unsupervised split:  84%|████████▎ | 41755/50000 [00:07<00:00, 10920.44 examples/s]#015Generating unsupervised split:  87%|████████▋ | 43335/50000 [00:07<00:00, 10787.05 examples/s]#015Generating unsupervised split:  89%|████████▉ | 44428/50000 [00:07<00:00, 10820.43 examples/s]#015Generating unsupervised split:  91%|█████████ | 45516/50000 [00:07<00:00, 10829.58 examples/s]#015Generating unsupervised split:  94%|█████████▍| 47124/50000 [00:07<00:00, 10783.75 examples/s]#015Generating unsupervised split:  96%|█████████▋| 48219/50000 [00:07<00:00, 10823.24 examples/s]#015Generating unsupervised split:  99%|█████████▊| 49321/50000 [00:07<00:00, 10868.06 examples/s]#015                                                                                              #015#015  0%|          | 0/3 [00:00<?, ?it/s]#015100%|██████████| 3/3 [00:00<00:00, 726.24it/s]\u001b[0m\n",
      "\u001b[34m#015Downloading (…)okenizer_config.json:   0%|          | 0.00/28.0 [00:00<?, ?B/s]#015Downloading (…)okenizer_config.json: 100%|██████████| 28.0/28.0 [00:00<00:00, 3.85kB/s]\u001b[0m\n",
      "\u001b[34m#015Downloading (…)lve/main/config.json:   0%|          | 0.00/483 [00:00<?, ?B/s]#015Downloading (…)lve/main/config.json: 100%|██████████| 483/483 [00:00<00:00, 80.4kB/s]\u001b[0m\n",
      "\u001b[34m#015Downloading (…)solve/main/vocab.txt:   0%|          | 0.00/232k [00:00<?, ?B/s]#015Downloading (…)solve/main/vocab.txt: 100%|██████████| 232k/232k [00:00<00:00, 39.8MB/s]\u001b[0m\n",
      "\u001b[34m#015Downloading (…)/main/tokenizer.json:   0%|          | 0.00/466k [00:00<?, ?B/s]#015Downloading (…)/main/tokenizer.json: 100%|██████████| 466k/466k [00:00<00:00, 28.7MB/s]\u001b[0m\n",
      "\u001b[34mFound cached dataset imdb (/root/.cache/huggingface/datasets/imdb/plain_text/1.0.0/d613c88cf8fa3bab83b4ded3713f1f74830d1100e171db75bbddb80b3345c9c0)\u001b[0m\n",
      "\u001b[34m#015  0%|          | 0/2 [00:00<?, ?it/s]#015100%|██████████| 2/2 [00:00<00:00, 748.45it/s]\u001b[0m\n",
      "\u001b[34m#015Map:   0%|          | 0/25000 [00:00<?, ? examples/s]#015Map:   4%|▍         | 1000/25000 [00:00<00:13, 1824.61 examples/s]#015Map:   8%|▊         | 2000/25000 [00:01<00:11, 1982.04 examples/s]#015Map:  12%|█▏        | 3000/25000 [00:01<00:10, 2013.90 examples/s]#015Map:  16%|█▌        | 4000/25000 [00:01<00:10, 2025.39 examples/s]#015Map:  20%|██        | 5000/25000 [00:02<00:09, 2012.63 examples/s]#015Map:  24%|██▍       | 6000/25000 [00:03<00:09, 2008.87 examples/s]#015Map:  28%|██▊       | 7000/25000 [00:03<00:08, 2029.78 examples/s]#015Map:  32%|███▏      | 8000/25000 [00:03<00:08, 2003.65 examples/s]#015Map:  36%|███▌      | 9000/25000 [00:04<00:08, 1998.89 examples/s]#015Map:  40%|████      | 10000/25000 [00:04<00:07, 2026.97 examples/s]#015Map:  44%|████▍     | 11000/25000 [00:05<00:06, 2052.23 examples/s]#015Map:  48%|████▊     | 12000/25000 [00:05<00:06, 1980.54 examples/s]#015Map:  52%|█████▏    | 13000/25000 [00:06<00:05, 2008.73 examples/s]#015Map:  56%|█████▌    | 14000/25000 [00:07<00:05, 1974.79 examples/s]#015Map:  60%|██████    | 15000/25000 [00:07<00:05, 1991.95 examples/s]#015Map:  64%|██████▍   | 16000/25000 [00:08<00:04, 1986.35 examples/s]#015Map:  68%|██████▊   | 17000/25000 [00:08<00:04, 1921.32 examples/s]#015Map:  72%|███████▏  | 18000/25000 [00:09<00:03, 1945.16 examples/s]#015Map:  76%|███████▌  | 19000/25000 [00:09<00:03, 1989.82 examples/s]#015Map:  80%|████████  | 20000/25000 [00:10<00:02, 1965.32 examples/s]#015Map:  84%|████████▍ | 21000/25000 [00:10<00:02, 1975.06 examples/s]#015Map:  88%|████████▊ | 22000/25000 [00:11<00:01, 1947.10 examples/s]#015Map:  92%|█████████▏| 23000/25000 [00:11<00:01, 1986.69 examples/s]#015Map:  96%|█████████▌| 24000/25000 [00:12<00:00, 1987.07 examples/s]#015Map: 100%|██████████| 25000/25000 [00:12<00:00, 1992.52 examples/s]#015                                                                   #015#015Map:   0%|          | 0/10000 [00:00<?, ? examples/s]#015Map:  10%|█         | 1000/10000 [00:00<00:04, 2070.89 examples/s]#015Map:  20%|██        | 2000/10000 [00:00<00:04, 1996.46 examples/s]#015Map:  30%|███       | 3000/10000 [00:01<00:03, 1983.91 examples/s]#015Map:  40%|████      | 4000/10000 [00:02<00:03, 1983.39 examples/s]#015Map:  50%|█████     | 5000/10000 [00:02<00:02, 1967.92 examples/s]#015Map:  60%|██████    | 6000/10000 [00:03<00:02, 1984.30 examples/s]#015Map:  70%|███████   | 7000/10000 [00:03<00:01, 1891.22 examples/s]#015Map:  80%|████████  | 8000/10000 [00:04<00:01, 1931.29 examples/s]#015Map:  90%|█████████ | 9000/10000 [00:04<00:00, 1914.78 examples/s]#015Map: 100%|██████████| 10000/10000 [00:05<00:00, 1918.80 examples/s]#015                                                                   #015#015Saving the dataset (0/1 shards):   0%|          | 0/25000 [00:00<?, ? examples/s]#015Saving the dataset (1/1 shards): 100%|██████████| 25000/25000 [00:00<00:00, 371545.60 examples/s]#015                                                                                                 #015#015Saving the dataset (0/1 shards):   0%|          | 0/10000 [00:00<?, ? examples/s]#015Saving the dataset (1/1 shards): 100%|██████████| 10000/10000 [00:00<00:00, 358175.27 examples/s]#015                                                                                                 #015\u001b[0m\n",
      "\n"
     ]
    }
   ],
   "source": [
    "from sagemaker.processing import ProcessingInput, ProcessingOutput\n",
    "from time import gmtime, strftime \n",
    "\n",
    "s3_prefix = \"tlv-summit-demo\"\n",
    "processing_job_name = \"tlv-summit-demo-{}\".format(strftime(\"%d-%H-%M-%S\", gmtime()))\n",
    "output_destination = 's3://{}/{}'.format(sess.default_bucket(), s3_prefix)\n",
    "\n",
    "pytorch_processor.run(\n",
    "    code='scripts/preprocessing.py',\n",
    "    job_name=processing_job_name,\n",
    "    outputs=[\n",
    "        ProcessingOutput(output_name='train',\n",
    "            destination='{}/train'.format(output_destination),\n",
    "            source='/opt/ml/processing/train'),\n",
    "        ProcessingOutput(output_name='test',\n",
    "            destination='{}/test'.format(output_destination),\n",
    "            source='/opt/ml/processing/test')\n",
    "    ]\n",
    ")"
   ]
  },
  {
   "cell_type": "code",
   "execution_count": 5,
   "metadata": {
    "tags": []
   },
   "outputs": [
    {
     "data": {
      "text/plain": [
       "{'ProcessingInputs': [{'InputName': 'code',\n",
       "   'AppManaged': False,\n",
       "   'S3Input': {'S3Uri': 's3://sagemaker-us-east-1-394934205700/tlv-summit-demo-21-12-55-14/source/sourcedir.tar.gz',\n",
       "    'LocalPath': '/opt/ml/processing/input/code/',\n",
       "    'S3DataType': 'S3Prefix',\n",
       "    'S3InputMode': 'File',\n",
       "    'S3DataDistributionType': 'FullyReplicated',\n",
       "    'S3CompressionType': 'None'}},\n",
       "  {'InputName': 'entrypoint',\n",
       "   'AppManaged': False,\n",
       "   'S3Input': {'S3Uri': 's3://sagemaker-us-east-1-394934205700/tlv-summit-demo-21-12-55-14/source/runproc.sh',\n",
       "    'LocalPath': '/opt/ml/processing/input/entrypoint',\n",
       "    'S3DataType': 'S3Prefix',\n",
       "    'S3InputMode': 'File',\n",
       "    'S3DataDistributionType': 'FullyReplicated',\n",
       "    'S3CompressionType': 'None'}}],\n",
       " 'ProcessingOutputConfig': {'Outputs': [{'OutputName': 'train',\n",
       "    'S3Output': {'S3Uri': 's3://sagemaker-us-east-1-394934205700/tlv-summit-demo/train',\n",
       "     'LocalPath': '/opt/ml/processing/train',\n",
       "     'S3UploadMode': 'EndOfJob'},\n",
       "    'AppManaged': False},\n",
       "   {'OutputName': 'test',\n",
       "    'S3Output': {'S3Uri': 's3://sagemaker-us-east-1-394934205700/tlv-summit-demo/test',\n",
       "     'LocalPath': '/opt/ml/processing/test',\n",
       "     'S3UploadMode': 'EndOfJob'},\n",
       "    'AppManaged': False}]},\n",
       " 'ProcessingJobName': 'tlv-summit-demo-21-12-55-14',\n",
       " 'ProcessingResources': {'ClusterConfig': {'InstanceCount': 1,\n",
       "   'InstanceType': 'ml.m5.xlarge',\n",
       "   'VolumeSizeInGB': 30}},\n",
       " 'StoppingCondition': {'MaxRuntimeInSeconds': 86400},\n",
       " 'AppSpecification': {'ImageUri': '763104351884.dkr.ecr.us-east-1.amazonaws.com/pytorch-training:1.13-cpu-py39',\n",
       "  'ContainerEntrypoint': ['/bin/bash',\n",
       "   '/opt/ml/processing/input/entrypoint/runproc.sh']},\n",
       " 'RoleArn': 'arn:aws:iam::394934205700:role/service-role/AmazonSageMaker-ExecutionRole-20220201T182213',\n",
       " 'ProcessingJobArn': 'arn:aws:sagemaker:us-east-1:394934205700:processing-job/tlv-summit-demo-21-12-55-14',\n",
       " 'ProcessingJobStatus': 'Completed',\n",
       " 'ProcessingEndTime': datetime.datetime(2023, 4, 21, 13, 0, 51, 397000, tzinfo=tzlocal()),\n",
       " 'ProcessingStartTime': datetime.datetime(2023, 4, 21, 12, 59, 39, 330000, tzinfo=tzlocal()),\n",
       " 'LastModifiedTime': datetime.datetime(2023, 4, 21, 13, 0, 51, 748000, tzinfo=tzlocal()),\n",
       " 'CreationTime': datetime.datetime(2023, 4, 21, 12, 55, 15, 91000, tzinfo=tzlocal()),\n",
       " 'ResponseMetadata': {'RequestId': '3e545bab-ef63-4755-9ebf-e9ef12fbb5e9',\n",
       "  'HTTPStatusCode': 200,\n",
       "  'HTTPHeaders': {'x-amzn-requestid': '3e545bab-ef63-4755-9ebf-e9ef12fbb5e9',\n",
       "   'content-type': 'application/x-amz-json-1.1',\n",
       "   'content-length': '2048',\n",
       "   'date': 'Fri, 21 Apr 2023 13:01:13 GMT'},\n",
       "  'RetryAttempts': 0}}"
      ]
     },
     "execution_count": 5,
     "metadata": {},
     "output_type": "execute_result"
    }
   ],
   "source": [
    "preprocessing_job_description = pytorch_processor.jobs[-1].describe()\n",
    "preprocessing_job_description"
   ]
  },
  {
   "cell_type": "markdown",
   "metadata": {},
   "source": [
    "## Creating an Estimator and start a training job"
   ]
  },
  {
   "cell_type": "code",
   "execution_count": 6,
   "metadata": {
    "tags": []
   },
   "outputs": [],
   "source": [
    "from sagemaker.huggingface import HuggingFace\n",
    "\n",
    "training_input_path = 's3://{}/{}/train'.format(sess.default_bucket(), s3_prefix)\n",
    "test_input_path = 's3://{}/{}/test'.format(sess.default_bucket(), s3_prefix)\n",
    "\n",
    "# save test_dataset to s3\n",
    "test_input_path = f's3://{sess.default_bucket()}/{s3_prefix}/test'\n",
    "\n",
    "# hyperparameters, which are passed into the training job\n",
    "hyperparameters={'epochs': 1,\n",
    "                 'train_batch_size': 32,\n",
    "                 'model_name':'distilbert-base-uncased',\n",
    "                 'learning_rate': 0.01\n",
    "                 }"
   ]
  },
  {
   "cell_type": "code",
   "execution_count": 7,
   "metadata": {
    "tags": []
   },
   "outputs": [],
   "source": [
    "huggingface_estimator = HuggingFace(entry_point='train.py',\n",
    "                            source_dir='./scripts',\n",
    "                            instance_type='ml.p3.2xlarge',\n",
    "                            instance_count=1,\n",
    "                            role=role,\n",
    "                            transformers_version='4.26',\n",
    "                            pytorch_version='1.13',\n",
    "                            py_version='py39',\n",
    "                            hyperparameters = hyperparameters)"
   ]
  },
  {
   "cell_type": "code",
   "execution_count": null,
   "metadata": {
    "tags": []
   },
   "outputs": [
    {
     "name": "stderr",
     "output_type": "stream",
     "text": [
      "INFO:sagemaker.image_uris:image_uri is not presented, retrieving image_uri based on instance_type, framework etc.\n",
      "INFO:sagemaker.image_uris:image_uri is not presented, retrieving image_uri based on instance_type, framework etc.\n",
      "INFO:sagemaker:Creating training-job with name: huggingface-pytorch-training-2023-04-21-13-01-13-917\n"
     ]
    },
    {
     "name": "stdout",
     "output_type": "stream",
     "text": [
      "Using provided s3_resource\n",
      "2023-04-21 13:01:14 Starting - Starting the training job...\n",
      "2023-04-21 13:01:39 Starting - Preparing the instances for training......\n",
      "2023-04-21 13:02:37 Downloading - Downloading input data...\n",
      "2023-04-21 13:03:02 Training - Downloading the training image................"
     ]
    }
   ],
   "source": [
    "# starting the train job with our uploaded datasets as input\n",
    "huggingface_estimator.fit({'train': training_input_path, 'test': test_input_path})"
   ]
  },
  {
   "cell_type": "markdown",
   "metadata": {},
   "source": [
    "## Deploying the endpoint\n",
    "\n",
    "To deploy our endpoint, we call `deploy()` on our HuggingFace estimator object, passing in our desired number of instances and instance type."
   ]
  },
  {
   "cell_type": "code",
   "execution_count": null,
   "metadata": {
    "tags": []
   },
   "outputs": [],
   "source": [
    "predictor = huggingface_estimator.deploy(1, \"ml.g4dn.xlarge\")"
   ]
  },
  {
   "cell_type": "markdown",
   "metadata": {},
   "source": [
    "Then, we use the returned predictor object to call the endpoint."
   ]
  },
  {
   "cell_type": "code",
   "execution_count": null,
   "metadata": {
    "tags": []
   },
   "outputs": [],
   "source": [
    "sentiment_input= {\"inputs\":\"I love using SageMaker to build machine learning modules!\"}\n",
    "\n",
    "predictor.predict(sentiment_input)"
   ]
  },
  {
   "cell_type": "markdown",
   "metadata": {},
   "source": [
    "Finally, we delete the endpoint again."
   ]
  },
  {
   "cell_type": "code",
   "execution_count": null,
   "metadata": {
    "tags": []
   },
   "outputs": [],
   "source": [
    "predictor.delete_model()\n",
    "predictor.delete_endpoint()"
   ]
  }
 ],
 "metadata": {
  "availableInstances": [
   {
    "_defaultOrder": 0,
    "_isFastLaunch": true,
    "category": "General purpose",
    "gpuNum": 0,
    "hideHardwareSpecs": false,
    "memoryGiB": 4,
    "name": "ml.t3.medium",
    "vcpuNum": 2
   },
   {
    "_defaultOrder": 1,
    "_isFastLaunch": false,
    "category": "General purpose",
    "gpuNum": 0,
    "hideHardwareSpecs": false,
    "memoryGiB": 8,
    "name": "ml.t3.large",
    "vcpuNum": 2
   },
   {
    "_defaultOrder": 2,
    "_isFastLaunch": false,
    "category": "General purpose",
    "gpuNum": 0,
    "hideHardwareSpecs": false,
    "memoryGiB": 16,
    "name": "ml.t3.xlarge",
    "vcpuNum": 4
   },
   {
    "_defaultOrder": 3,
    "_isFastLaunch": false,
    "category": "General purpose",
    "gpuNum": 0,
    "hideHardwareSpecs": false,
    "memoryGiB": 32,
    "name": "ml.t3.2xlarge",
    "vcpuNum": 8
   },
   {
    "_defaultOrder": 4,
    "_isFastLaunch": true,
    "category": "General purpose",
    "gpuNum": 0,
    "hideHardwareSpecs": false,
    "memoryGiB": 8,
    "name": "ml.m5.large",
    "vcpuNum": 2
   },
   {
    "_defaultOrder": 5,
    "_isFastLaunch": false,
    "category": "General purpose",
    "gpuNum": 0,
    "hideHardwareSpecs": false,
    "memoryGiB": 16,
    "name": "ml.m5.xlarge",
    "vcpuNum": 4
   },
   {
    "_defaultOrder": 6,
    "_isFastLaunch": false,
    "category": "General purpose",
    "gpuNum": 0,
    "hideHardwareSpecs": false,
    "memoryGiB": 32,
    "name": "ml.m5.2xlarge",
    "vcpuNum": 8
   },
   {
    "_defaultOrder": 7,
    "_isFastLaunch": false,
    "category": "General purpose",
    "gpuNum": 0,
    "hideHardwareSpecs": false,
    "memoryGiB": 64,
    "name": "ml.m5.4xlarge",
    "vcpuNum": 16
   },
   {
    "_defaultOrder": 8,
    "_isFastLaunch": false,
    "category": "General purpose",
    "gpuNum": 0,
    "hideHardwareSpecs": false,
    "memoryGiB": 128,
    "name": "ml.m5.8xlarge",
    "vcpuNum": 32
   },
   {
    "_defaultOrder": 9,
    "_isFastLaunch": false,
    "category": "General purpose",
    "gpuNum": 0,
    "hideHardwareSpecs": false,
    "memoryGiB": 192,
    "name": "ml.m5.12xlarge",
    "vcpuNum": 48
   },
   {
    "_defaultOrder": 10,
    "_isFastLaunch": false,
    "category": "General purpose",
    "gpuNum": 0,
    "hideHardwareSpecs": false,
    "memoryGiB": 256,
    "name": "ml.m5.16xlarge",
    "vcpuNum": 64
   },
   {
    "_defaultOrder": 11,
    "_isFastLaunch": false,
    "category": "General purpose",
    "gpuNum": 0,
    "hideHardwareSpecs": false,
    "memoryGiB": 384,
    "name": "ml.m5.24xlarge",
    "vcpuNum": 96
   },
   {
    "_defaultOrder": 12,
    "_isFastLaunch": false,
    "category": "General purpose",
    "gpuNum": 0,
    "hideHardwareSpecs": false,
    "memoryGiB": 8,
    "name": "ml.m5d.large",
    "vcpuNum": 2
   },
   {
    "_defaultOrder": 13,
    "_isFastLaunch": false,
    "category": "General purpose",
    "gpuNum": 0,
    "hideHardwareSpecs": false,
    "memoryGiB": 16,
    "name": "ml.m5d.xlarge",
    "vcpuNum": 4
   },
   {
    "_defaultOrder": 14,
    "_isFastLaunch": false,
    "category": "General purpose",
    "gpuNum": 0,
    "hideHardwareSpecs": false,
    "memoryGiB": 32,
    "name": "ml.m5d.2xlarge",
    "vcpuNum": 8
   },
   {
    "_defaultOrder": 15,
    "_isFastLaunch": false,
    "category": "General purpose",
    "gpuNum": 0,
    "hideHardwareSpecs": false,
    "memoryGiB": 64,
    "name": "ml.m5d.4xlarge",
    "vcpuNum": 16
   },
   {
    "_defaultOrder": 16,
    "_isFastLaunch": false,
    "category": "General purpose",
    "gpuNum": 0,
    "hideHardwareSpecs": false,
    "memoryGiB": 128,
    "name": "ml.m5d.8xlarge",
    "vcpuNum": 32
   },
   {
    "_defaultOrder": 17,
    "_isFastLaunch": false,
    "category": "General purpose",
    "gpuNum": 0,
    "hideHardwareSpecs": false,
    "memoryGiB": 192,
    "name": "ml.m5d.12xlarge",
    "vcpuNum": 48
   },
   {
    "_defaultOrder": 18,
    "_isFastLaunch": false,
    "category": "General purpose",
    "gpuNum": 0,
    "hideHardwareSpecs": false,
    "memoryGiB": 256,
    "name": "ml.m5d.16xlarge",
    "vcpuNum": 64
   },
   {
    "_defaultOrder": 19,
    "_isFastLaunch": false,
    "category": "General purpose",
    "gpuNum": 0,
    "hideHardwareSpecs": false,
    "memoryGiB": 384,
    "name": "ml.m5d.24xlarge",
    "vcpuNum": 96
   },
   {
    "_defaultOrder": 20,
    "_isFastLaunch": false,
    "category": "General purpose",
    "gpuNum": 0,
    "hideHardwareSpecs": true,
    "memoryGiB": 0,
    "name": "ml.geospatial.interactive",
    "supportedImageNames": [
     "sagemaker-geospatial-v1-0"
    ],
    "vcpuNum": 0
   },
   {
    "_defaultOrder": 21,
    "_isFastLaunch": true,
    "category": "Compute optimized",
    "gpuNum": 0,
    "hideHardwareSpecs": false,
    "memoryGiB": 4,
    "name": "ml.c5.large",
    "vcpuNum": 2
   },
   {
    "_defaultOrder": 22,
    "_isFastLaunch": false,
    "category": "Compute optimized",
    "gpuNum": 0,
    "hideHardwareSpecs": false,
    "memoryGiB": 8,
    "name": "ml.c5.xlarge",
    "vcpuNum": 4
   },
   {
    "_defaultOrder": 23,
    "_isFastLaunch": false,
    "category": "Compute optimized",
    "gpuNum": 0,
    "hideHardwareSpecs": false,
    "memoryGiB": 16,
    "name": "ml.c5.2xlarge",
    "vcpuNum": 8
   },
   {
    "_defaultOrder": 24,
    "_isFastLaunch": false,
    "category": "Compute optimized",
    "gpuNum": 0,
    "hideHardwareSpecs": false,
    "memoryGiB": 32,
    "name": "ml.c5.4xlarge",
    "vcpuNum": 16
   },
   {
    "_defaultOrder": 25,
    "_isFastLaunch": false,
    "category": "Compute optimized",
    "gpuNum": 0,
    "hideHardwareSpecs": false,
    "memoryGiB": 72,
    "name": "ml.c5.9xlarge",
    "vcpuNum": 36
   },
   {
    "_defaultOrder": 26,
    "_isFastLaunch": false,
    "category": "Compute optimized",
    "gpuNum": 0,
    "hideHardwareSpecs": false,
    "memoryGiB": 96,
    "name": "ml.c5.12xlarge",
    "vcpuNum": 48
   },
   {
    "_defaultOrder": 27,
    "_isFastLaunch": false,
    "category": "Compute optimized",
    "gpuNum": 0,
    "hideHardwareSpecs": false,
    "memoryGiB": 144,
    "name": "ml.c5.18xlarge",
    "vcpuNum": 72
   },
   {
    "_defaultOrder": 28,
    "_isFastLaunch": false,
    "category": "Compute optimized",
    "gpuNum": 0,
    "hideHardwareSpecs": false,
    "memoryGiB": 192,
    "name": "ml.c5.24xlarge",
    "vcpuNum": 96
   },
   {
    "_defaultOrder": 29,
    "_isFastLaunch": true,
    "category": "Accelerated computing",
    "gpuNum": 1,
    "hideHardwareSpecs": false,
    "memoryGiB": 16,
    "name": "ml.g4dn.xlarge",
    "vcpuNum": 4
   },
   {
    "_defaultOrder": 30,
    "_isFastLaunch": false,
    "category": "Accelerated computing",
    "gpuNum": 1,
    "hideHardwareSpecs": false,
    "memoryGiB": 32,
    "name": "ml.g4dn.2xlarge",
    "vcpuNum": 8
   },
   {
    "_defaultOrder": 31,
    "_isFastLaunch": false,
    "category": "Accelerated computing",
    "gpuNum": 1,
    "hideHardwareSpecs": false,
    "memoryGiB": 64,
    "name": "ml.g4dn.4xlarge",
    "vcpuNum": 16
   },
   {
    "_defaultOrder": 32,
    "_isFastLaunch": false,
    "category": "Accelerated computing",
    "gpuNum": 1,
    "hideHardwareSpecs": false,
    "memoryGiB": 128,
    "name": "ml.g4dn.8xlarge",
    "vcpuNum": 32
   },
   {
    "_defaultOrder": 33,
    "_isFastLaunch": false,
    "category": "Accelerated computing",
    "gpuNum": 4,
    "hideHardwareSpecs": false,
    "memoryGiB": 192,
    "name": "ml.g4dn.12xlarge",
    "vcpuNum": 48
   },
   {
    "_defaultOrder": 34,
    "_isFastLaunch": false,
    "category": "Accelerated computing",
    "gpuNum": 1,
    "hideHardwareSpecs": false,
    "memoryGiB": 256,
    "name": "ml.g4dn.16xlarge",
    "vcpuNum": 64
   },
   {
    "_defaultOrder": 35,
    "_isFastLaunch": false,
    "category": "Accelerated computing",
    "gpuNum": 1,
    "hideHardwareSpecs": false,
    "memoryGiB": 61,
    "name": "ml.p3.2xlarge",
    "vcpuNum": 8
   },
   {
    "_defaultOrder": 36,
    "_isFastLaunch": false,
    "category": "Accelerated computing",
    "gpuNum": 4,
    "hideHardwareSpecs": false,
    "memoryGiB": 244,
    "name": "ml.p3.8xlarge",
    "vcpuNum": 32
   },
   {
    "_defaultOrder": 37,
    "_isFastLaunch": false,
    "category": "Accelerated computing",
    "gpuNum": 8,
    "hideHardwareSpecs": false,
    "memoryGiB": 488,
    "name": "ml.p3.16xlarge",
    "vcpuNum": 64
   },
   {
    "_defaultOrder": 38,
    "_isFastLaunch": false,
    "category": "Accelerated computing",
    "gpuNum": 8,
    "hideHardwareSpecs": false,
    "memoryGiB": 768,
    "name": "ml.p3dn.24xlarge",
    "vcpuNum": 96
   },
   {
    "_defaultOrder": 39,
    "_isFastLaunch": false,
    "category": "Memory Optimized",
    "gpuNum": 0,
    "hideHardwareSpecs": false,
    "memoryGiB": 16,
    "name": "ml.r5.large",
    "vcpuNum": 2
   },
   {
    "_defaultOrder": 40,
    "_isFastLaunch": false,
    "category": "Memory Optimized",
    "gpuNum": 0,
    "hideHardwareSpecs": false,
    "memoryGiB": 32,
    "name": "ml.r5.xlarge",
    "vcpuNum": 4
   },
   {
    "_defaultOrder": 41,
    "_isFastLaunch": false,
    "category": "Memory Optimized",
    "gpuNum": 0,
    "hideHardwareSpecs": false,
    "memoryGiB": 64,
    "name": "ml.r5.2xlarge",
    "vcpuNum": 8
   },
   {
    "_defaultOrder": 42,
    "_isFastLaunch": false,
    "category": "Memory Optimized",
    "gpuNum": 0,
    "hideHardwareSpecs": false,
    "memoryGiB": 128,
    "name": "ml.r5.4xlarge",
    "vcpuNum": 16
   },
   {
    "_defaultOrder": 43,
    "_isFastLaunch": false,
    "category": "Memory Optimized",
    "gpuNum": 0,
    "hideHardwareSpecs": false,
    "memoryGiB": 256,
    "name": "ml.r5.8xlarge",
    "vcpuNum": 32
   },
   {
    "_defaultOrder": 44,
    "_isFastLaunch": false,
    "category": "Memory Optimized",
    "gpuNum": 0,
    "hideHardwareSpecs": false,
    "memoryGiB": 384,
    "name": "ml.r5.12xlarge",
    "vcpuNum": 48
   },
   {
    "_defaultOrder": 45,
    "_isFastLaunch": false,
    "category": "Memory Optimized",
    "gpuNum": 0,
    "hideHardwareSpecs": false,
    "memoryGiB": 512,
    "name": "ml.r5.16xlarge",
    "vcpuNum": 64
   },
   {
    "_defaultOrder": 46,
    "_isFastLaunch": false,
    "category": "Memory Optimized",
    "gpuNum": 0,
    "hideHardwareSpecs": false,
    "memoryGiB": 768,
    "name": "ml.r5.24xlarge",
    "vcpuNum": 96
   },
   {
    "_defaultOrder": 47,
    "_isFastLaunch": false,
    "category": "Accelerated computing",
    "gpuNum": 1,
    "hideHardwareSpecs": false,
    "memoryGiB": 16,
    "name": "ml.g5.xlarge",
    "vcpuNum": 4
   },
   {
    "_defaultOrder": 48,
    "_isFastLaunch": false,
    "category": "Accelerated computing",
    "gpuNum": 1,
    "hideHardwareSpecs": false,
    "memoryGiB": 32,
    "name": "ml.g5.2xlarge",
    "vcpuNum": 8
   },
   {
    "_defaultOrder": 49,
    "_isFastLaunch": false,
    "category": "Accelerated computing",
    "gpuNum": 1,
    "hideHardwareSpecs": false,
    "memoryGiB": 64,
    "name": "ml.g5.4xlarge",
    "vcpuNum": 16
   },
   {
    "_defaultOrder": 50,
    "_isFastLaunch": false,
    "category": "Accelerated computing",
    "gpuNum": 1,
    "hideHardwareSpecs": false,
    "memoryGiB": 128,
    "name": "ml.g5.8xlarge",
    "vcpuNum": 32
   },
   {
    "_defaultOrder": 51,
    "_isFastLaunch": false,
    "category": "Accelerated computing",
    "gpuNum": 1,
    "hideHardwareSpecs": false,
    "memoryGiB": 256,
    "name": "ml.g5.16xlarge",
    "vcpuNum": 64
   },
   {
    "_defaultOrder": 52,
    "_isFastLaunch": false,
    "category": "Accelerated computing",
    "gpuNum": 4,
    "hideHardwareSpecs": false,
    "memoryGiB": 192,
    "name": "ml.g5.12xlarge",
    "vcpuNum": 48
   },
   {
    "_defaultOrder": 53,
    "_isFastLaunch": false,
    "category": "Accelerated computing",
    "gpuNum": 4,
    "hideHardwareSpecs": false,
    "memoryGiB": 384,
    "name": "ml.g5.24xlarge",
    "vcpuNum": 96
   },
   {
    "_defaultOrder": 54,
    "_isFastLaunch": false,
    "category": "Accelerated computing",
    "gpuNum": 8,
    "hideHardwareSpecs": false,
    "memoryGiB": 768,
    "name": "ml.g5.48xlarge",
    "vcpuNum": 192
   }
  ],
  "instance_type": "ml.t3.medium",
  "interpreter": {
   "hash": "c281c456f1b8161c8906f4af2c08ed2c40c50136979eaae69688b01f70e9f4a9"
  },
  "kernelspec": {
   "display_name": "Python 3 (PyTorch 1.13 Python 3.9 CPU Optimized)",
   "language": "python",
   "name": "python3__SAGEMAKER_INTERNAL__arn:aws:sagemaker:us-east-1:081325390199:image/pytorch-1.13-cpu-py39"
  },
  "language_info": {
   "codemirror_mode": {
    "name": "ipython",
    "version": 3
   },
   "file_extension": ".py",
   "mimetype": "text/x-python",
   "name": "python",
   "nbconvert_exporter": "python",
   "pygments_lexer": "ipython3",
   "version": "3.9.16"
  }
 },
 "nbformat": 4,
 "nbformat_minor": 4
}
